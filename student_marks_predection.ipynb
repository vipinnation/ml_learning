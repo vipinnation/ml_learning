#import all libraries
import numpy as np
import pandas as pd 
from sklearn.model_selection import train_test_split
from sklearn.linear_model import LinearRegression


data = []
constraints = {
    1: (60, 70),
    2: (60, 70),
    3: (70, 75),
    4: (75, 85),
    5: (75, 85),
    6: (85, 90),
    7: (90, 95),
    8: (95, 97)
}

# generate data
for _ in range(10000):
   hours = np.random.randint(1, 9)
   marks = np.random.randint(constraints[hours][0], constraints[hours][1] + 1)
   data.append([hours, marks])

# create a data frame
data = np.array(data)
df = pd.DataFrame(data , columns = ['study_hours' , 'marks'])

x = df[['study_hours']]
y = df['marks']

# train model
X_train , X_test , Y_train , Y_test  = train_test_split(x,y , test_size=0.2 , random_state=42)

model  = LinearRegression()
model.fit(X_train, Y_train)

# test model
result = model.predict([[5]])
result
